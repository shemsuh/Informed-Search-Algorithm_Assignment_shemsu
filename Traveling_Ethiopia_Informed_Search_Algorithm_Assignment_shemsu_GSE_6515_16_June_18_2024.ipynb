{
  "nbformat": 4,
  "nbformat_minor": 0,
  "metadata": {
    "colab": {
      "provenance": [],
      "authorship_tag": "ABX9TyOw2+E73jsoLMzwwf5NAKuu",
      "include_colab_link": true
    },
    "kernelspec": {
      "name": "python3",
      "display_name": "Python 3"
    },
    "language_info": {
      "name": "python"
    }
  },
  "cells": [
    {
      "cell_type": "markdown",
      "metadata": {
        "id": "view-in-github",
        "colab_type": "text"
      },
      "source": [
        "<a href=\"https://colab.research.google.com/github/shemsuh/Informed-Search-Algorithm_Assignment_shemsu/blob/main/Traveling_Ethiopia_Informed_Search_Algorithm_Assignment_shemsu_GSE_6515_16_June_18_2024.ipynb\" target=\"_parent\"><img src=\"https://colab.research.google.com/assets/colab-badge.svg\" alt=\"Open In Colab\"/></a>"
      ]
    },
    {
      "cell_type": "markdown",
      "source": [
        "Traveling Ethiopia Search Problem  **bold text**\n",
        "\n",
        "**Overview**\n",
        "This project implements the A* search algorithm to find the shortest path between two cities in Ethiopia. The cities and their connections or neigbhors are represented as a graph, with each node being a city and each edge and arc (path) being the distance or the actual and heuristic (estimated) costs. The goal is to find the optimal path from the initial state \"Addis Ababa\" to the goal state \"Moyale\" using A* search and python."
      ],
      "metadata": {
        "id": "1meF-V4vNO5U"
      }
    },
    {
      "cell_type": "code",
      "source": [
        "import queue\n",
        "from collections import OrderedDict"
      ],
      "metadata": {
        "id": "e2Ew1aIN1BJO"
      },
      "execution_count": null,
      "outputs": []
    },
    {
      "cell_type": "code",
      "source": [
        "#Definning the Graph:\n",
        "ethiopian_cities_graph = {\n",
        "    'Addis Ababa': {'neighbors': [('Adama', 3, 23), ('Ambo', 5  , 31), ('Debre Birhan', 5, 31), ('Debre Markos', 13, 39)]},\n",
        "    'Adigrat': {'neighbors': [('Adwa', 4, 65), ('Mekelle', 4, 58)]},\n",
        "    'Adwa': {'neighbors': [('Axum', 1, 66), ('Mekelle', 1, 58), ('Adigrat', 4, 62)]},\n",
        "    'Axum': {'neighbors': [('Shire', 2, 67), ('Adwa', 1, 65)]},\n",
        "    'Shire': {'neighbors': [('Humera', 8, 65), ('Debark', 7, 60), ('Axum', 2, 66)]},\n",
        "    'Humera': {'neighbors': [('Shire', 8, 67), ('Gonder', 4, 56)]},\n",
        "    'Debarke': {'neighbors': [('Shire', 7, 67), ('Gonder', 9, 56)]},\n",
        "    'Metema': {'neighbors': [('Gonder', 7, 56), ('Azezo', 7, 55)]},\n",
        "    'Gonder': {'neighbors': [('Humera', 9, 65), ('Debark', 4, 60), ('Metema', 7, 62), ('Azezo', 1, 55), ('Debre Tabor', 6, 52)]},\n",
        "    'Mekelle': {'neighbors': [('Adwa', 7, 65), ('Adigrat', 4, 62), ('Sekota', 9, 69), ('Alamata', 5, 53)]},\n",
        "    'Kilbet Rasu': {'neighbors': [('Fanti Rasu', 6, 49)]},\n",
        "    'Fanti Rasu': {'neighbors': [('Samara', 7, 42)]},\n",
        "    'Sekota': {'neighbors': [('Mekelle', 9, 58), ('Alamata', 6, 53), ('Lalibela', 6,57)]},\n",
        "    'Alamata': {'neighbors': [('Mekelle', 5, 58), ('Sekota', 6, 59), ('Samara', 11, 42), ('Woldia', 3,50)]},\n",
        "    'Debre Tabor': {'neighbors': [('Gonder', 6, 56), ('Bahir Dar', 4, 48), ('Lalibela', 8, 57)]},\n",
        "    'Azezo': {'neighbors': [('Metema', 7, 62), ('Gonder', 1, 56), ('Bahir Dar', 7,48)]},\n",
        "    'Bahir Dar': {'neighbors': [('Debre Tabor', 4, 52), ('Azezo', 7, 55), ('Metekel', 11, 59), ('Injibara', 4, 44), ('Finote Selam', 6, 42)]},\n",
        "    'Lalibela': {'neighbors': [('Woldia', 7, 50), ('Sekota', 6, 59),('Debre Tabor', 8, 52)]},\n",
        "    'Woldia': {'neighbors': [('Samara', 8, 42), ('Alamata', 3, 53), ('Lalibela', 7,57), ('Dessie', 6, 44)]},\n",
        "    'Samara': {'neighbors': [('Fanti Rasu', 7, 49), ('Alamata', 11, 53), ('Woldia', 8, 50), ('Gabi Rasu', 10, 32)]},\n",
        "    'Metekel': {'neighbors': [('Bahir Dar', 11, 48)]},\n",
        "    'Injibara': {'neighbors': [('Bahir Dar', 4, 48), ('Finote Selam', 2,42)]},\n",
        "    'Finote Selam': {'neighbors': [('Bahir Dar', 6, 48), ('Injibara', 2, 44)]},\n",
        "    'Debre Markos': {'neighbors': [('Finote Selam', 3, 42), ('Addis Ababa', 13, 26), ('Debre Sina', 17,33)]},\n",
        "    'Dessie': {'neighbors': [('Woldia', 6, 50), ('Kemise', 4, 40)]},\n",
        "    'Gabi Rasu': {'neighbors': [('Samara', 10, 42), ('Awash', 5, 27)]},\n",
        "    'Kemise': {'neighbors': [('Dessie', 4, 44), ('Debre Sina', 7, 33)]},\n",
        "    'Debre Sina': {'neighbors': [('Kemise', 7, 40), ('Debre Markos', 17, 39)]},\n",
        "    'Debre Birhan': {'neighbors': [('Debre Sina', 2, 33), ('Addis Ababa', 5, 26)]},\n",
        "    'Ambo': {'neighbors': [('Nekemete', 8, 39), ('Addis Ababa', 5, 26), ('Wolkite', 6,25)]},\n",
        "    'Nekemete': {'neighbors': [('Ambo', 8, 31), ('Gimbi', 4,43), ('Bedelle', 4,40)]},\n",
        "    'Gimbi': {'neighbors': [('Nekemete', 4, 39), ('Assosa', 8, 51), ('Dembi Dollo', 6, 49)]},\n",
        "    'Assosa': {'neighbors': [('Gimbi', 8, 43), ('Dembi Dollo', 12, 49)]},\n",
        "    'Dembi Dollo': {'neighbors': [('Assosa', 12, 51), ('Gimbi', 6, 43), ('Gambella', 4, 51)]},\n",
        "    'Awash': {'neighbors': [('Gabi Rasu', 5, 32), ('Matahara', 1, 26), ('Chiro', 4, 31)]},\n",
        "    'Chiro': {'neighbors': [('Awash', 4, 27), ('Dire Dawa', 8, 31)]},\n",
        "    'Dire Dawa': {'neighbors': [('Chiro', 8, 31), ('Harar', 4, 35)]},\n",
        "    'Harar': {'neighbors': [('Dire Dawa', 4, 31), ('Babile', 2, 37)]},\n",
        "    'Babile': {'neighbors': [('Harar', 2, 35), ('Jigjiga', 3,40)]},\n",
        "    'Jigjiga': {'neighbors': [('Babile', 3, 37), ('Dega Habur', 5, 45)]},\n",
        "    'Adama': {'neighbors': [('Addis Ababa', 3, 26), ('Batu', 4, 19), ('Assella', 4, 22), ('Matahara', 3, 26)]},\n",
        "    'Matahara': {'neighbors': [('Adama', 3, 23), ('Awash', 1, 27)]},\n",
        "    'Assela': {'neighbors': [('Adama', 4, 23), ('Assasa', 4, 18)]},\n",
        "    'Batu': {'neighbors': [('Adama', 4, 23), ('Buta Jirra', 2,21), ('Shashemene', 3, 16)]},\n",
        "    'Buta Jirra': {'neighbors': [('Wolkite', 4, 25), ('Worabe', 2, 22), ('Batu', 2, 19)]},\n",
        "    'Wolkite': {'neighbors': [('Buta Jirra', 4, 21), ('Worabe', 5, 22), ('Ambo', 6, 31), ('Jimma', 8, 33), ('Hossana', 5, 21)]},\n",
        "    'Bedelle': {'neighbors': [('Nekemete', 4, 39), ('Gore', 6, 46), ('Jimma', 7, 33)]},\n",
        "    'Gore': {'neighbors': [('Bedelle', 6, 40), ('Gambella', 5, 51), ('Tepi', 9, 41)]},\n",
        "    'Gambella': {'neighbors': [('Gore', 5, 46), ('Dembi Dollo', 4, 49)]},\n",
        "    'Assasa': {'neighbors': [('Assella', 4, 22), ('Dodolla', 1, 19)]},\n",
        "    'Shashemene': {'neighbors': [('Batu', 3, 19), ('Worabe', 6, 22), ('Hawassa', 1, 15), ('Dodolla', 3, 19)]},\n",
        "    'Worabe': {'neighbors': [('Buta Jirra', 2, 21), ('Shashemene', 6, 16), ('Wolkite', 5, 25), ('Hossana', 2, 21)]},\n",
        "    'Hossana': {'neighbors': [('Wolkite', 5, 25), ('Wolaita Sodo', 4, 17), ('Worabe', 2, 22), ('Shashemene', 7, 16)]},\n",
        "    'Jimma': {'neighbors': [('Wolkite', 8, 25), ('Bedelle', 7, 40), ('Bonga', 4, 33)]},\n",
        "    'Bonga': {'neighbors': [('Jimma', 4, 33), ('Tepi', 8, 41), ('Mezan Teferi', 4, 37), ('Dawro', 10, 23)]},\n",
        "    'Tepi': {'neighbors': [('Gore', 9, 46), ('Mezan Teferi', 4, 37), ('Bonga', 8, 33)]},\n",
        "    'Mezan Teferi': {'neighbors': [('Tepi', 4, 41), ('Bonga', 4, 33)]},\n",
        "    'Dodolla': {'neighbors': [('Assasa', 1, 18), ('Shashemene', 3, 16), ('Robe', 13, 22)]},\n",
        "    'Hawassa': {'neighbors': [('Shashemene', 1, 16), ('Dilla', 3, 12)]},\n",
        "    'Wolaita Sodo': {'neighbors': [('Hossana', 4, 21), ('Dawro', 6, 23), ('Arba Minch', 4, 13)]},\n",
        "    'Dawro': {'neighbors': [('Bonga', 10, 33), ('Wolaita Sodo', 6, 17)]},\n",
        "    'Dega Habur': {'neighbors': [('Jigjiga', 5, 40), ('Kebri Dehar', 6, 40)]},\n",
        "    'Kebri Dehar': {'neighbors': [('Dega Habur', 6, 45), ('Gode', 5, 35)]},\n",
        "    'Werder': {'neighbors': [('Kebri Dehar', 6, 40)]},\n",
        "    'Sof Oumer': {'neighbors': [('Goba', 6, 40), ('Robe', 23, 22), ('Gode', 23, 35)]},\n",
        "    'Goba': {'neighbors': [('Sof Oumer', 6, 45), ('Babile', 28, 37), ('Robe', 18, 22)]},\n",
        "    'Robe': {'neighbors': [('Goba', 18, 40), ('Dodolla', 13, 35), ('Liben', 11, 22), ('Sof Oumer', 23, 45)]},\n",
        "    'Dilla': {'neighbors': [('Hawassa', 3, 15), ('Bule Hora', 4, 8)]},\n",
        "    'Arba Minch': {'neighbors': [('Wolaita Sodo', 4, 17), ('Basketo', 10, 23), ('Konso', 4, 9)]},\n",
        "    'Basketo': {'neighbors': [('Arba Minch', 10, 13), ('Bench Maji', 5, 28)]},\n",
        "    'Bench Maji': {'neighbors': [('Basketo', 4, 9)]},\n",
        "    'Gode': {'neighbors': [('Kebri Dehar', 5, 40), ('Sof Oumer', 23, 45), ('Dollo', 17, 18)]},\n",
        "    'Dollo': {'neighbors': [('Gode', 17, 35), ('Moyale', 18, 0)]},\n",
        "    'Liben': {'neighbors': [('Robe', 11, 22), ('Moyale', 11, 0)]},\n",
        "    'Bule Hora': {'neighbors': [('Dilla', 4, 12), ('Yabello', 2, 6)]},\n",
        "    'Konso': {'neighbors': [('Arba Minch', 4, 13), ('Yabello', 3, 6)]},\n",
        "    'Yabello': {'neighbors': [('Bule Hora', 2, 8), ('Moyale', 6, 0)]},\n",
        "    }"
      ],
      "metadata": {
        "id": "XbX7c9Kx1haB"
      },
      "execution_count": null,
      "outputs": []
    },
    {
      "cell_type": "code",
      "source": [
        "#Class to accept strategy, which is A*, and Traveling Ethiopia problem\n",
        "class ethiopian_cities_search():\n",
        "    def __init__(self, problem, strategy):\n",
        "        self.problem = problem\n",
        "        self.strategy = strategy\n",
        "\n",
        "    def make_search(self):\n",
        "        if self.strategy == 'a star':\n",
        "            self.a_star_search()\n",
        "\n",
        "    def getPath(self, start_state, end_state, connections):\n",
        "        path_to_goal = []\n",
        "        current_state = end_state\n",
        "        while current_state != start_state:\n",
        "            path_to_goal.append(current_state)\n",
        "            current_state = connections[current_state][0]\n",
        "        path_to_goal.append(start_state)\n",
        "        path_to_goal.reverse()\n",
        "        return path_to_goal\n",
        "\n",
        "    def a_star_search(self):\n",
        "        frontier = queue.PriorityQueue()\n",
        "        reached = set()\n",
        "        connections = OrderedDict()\n",
        "\n",
        "        start_state = self.problem.getStartState()\n",
        "        connections = dict()\n",
        "        connections[start_state] = None\n",
        "        frontier.put((0+26, start_state))\n",
        "        end_state = None\n",
        "        is_goal_found = False\n",
        "        while not frontier.empty():\n",
        "            pq_value, current_state = frontier.get()\n",
        "            if self.problem.isGoalState(current_state):\n",
        "                end_state = current_state\n",
        "                is_goal_found = True\n",
        "                break\n",
        "\n",
        "            if current_state not in reached:\n",
        "                reached.add(current_state)\n",
        "            for nbr in self.problem.getSuccessors(current_state):\n",
        "                successor = nbr[0]\n",
        "\n",
        "                if successor not in reached:\n",
        "                    frontier.put((nbr[1]+nbr[2], successor))\n",
        "                    connections[successor] = (current_state, nbr[1]+nbr[2])\n",
        "            #print('connections after', connections)\n",
        "\n",
        "        if is_goal_found == True:\n",
        "          path_to_goal = self.getPath(start_state, end_state, connections)\n",
        "          print('Path from Addis Ababa to Moyale:', path_to_goal)\n",
        "        else:\n",
        "          print('No path found')"
      ],
      "metadata": {
        "id": "zq8xBM8F1cm5"
      },
      "execution_count": null,
      "outputs": []
    },
    {
      "cell_type": "code",
      "source": [
        "\n",
        "class Problem:\n",
        "    def __init__(self, start_state = 'Addis Ababa', graph = None, goal_state = 'Moyale'):\n",
        "        self.start_state = start_state\n",
        "        self.graph = graph\n",
        "        self.goal_state = goal_state\n",
        "\n",
        "    def getStartState(self):\n",
        "        print('Start state', self.start_state)\n",
        "        return self.start_state\n",
        "\n",
        "    def isGoalState(self, state):\n",
        "        #print('Goal state', state)\n",
        "        return state == self.goal_state\n",
        "\n",
        "\n",
        "    def getSuccessors(self, state):\n",
        "        return self.graph[state]['neighbors']"
      ],
      "metadata": {
        "id": "7r6xxKMS6vcB"
      },
      "execution_count": null,
      "outputs": []
    },
    {
      "cell_type": "code",
      "source": [
        "problem = Problem(graph = ethiopian_cities_graph, goal_state = 'Moyale')\n",
        "strategy = 'a star'\n",
        "search = ethiopian_cities_search(problem, strategy)\n",
        "search.make_search()"
      ],
      "metadata": {
        "id": "5f692AMEAbun",
        "colab": {
          "base_uri": "https://localhost:8080/"
        },
        "outputId": "4750407a-c454-4a2b-e511-8ed166f0c2e6"
      },
      "execution_count": null,
      "outputs": [
        {
          "output_type": "stream",
          "name": "stdout",
          "text": [
            "Start state Addis Ababa\n",
            "Path from Addis Ababa to Moyale: ['Addis Ababa', 'Adama', 'Batu', 'Shashemene', 'Hawassa', 'Dilla', 'Bule Hora', 'Yabello', 'Moyale']\n"
          ]
        }
      ]
    },
    {
      "cell_type": "code",
      "source": [],
      "metadata": {
        "id": "B0hnTNcbDwvp"
      },
      "execution_count": null,
      "outputs": []
    }
  ]
}